{
 "metadata": {
  "language_info": {
   "codemirror_mode": {
    "name": "ipython",
    "version": 3
   },
   "file_extension": ".py",
   "mimetype": "text/x-python",
   "name": "python",
   "nbconvert_exporter": "python",
   "pygments_lexer": "ipython3",
   "version": "3.9.5"
  },
  "orig_nbformat": 2,
  "kernelspec": {
   "name": "python3",
   "display_name": "Python 3.9.5 64-bit ('pytorch': conda)"
  },
  "metadata": {
   "interpreter": {
    "hash": "729e19e66e9f16cdbaae5239907f6dd57eef19baf761e0f0430e12ba67ad3e23"
   }
  },
  "interpreter": {
   "hash": "729e19e66e9f16cdbaae5239907f6dd57eef19baf761e0f0430e12ba67ad3e23"
  }
 },
 "nbformat": 4,
 "nbformat_minor": 2,
 "cells": [
  {
   "cell_type": "code",
   "execution_count": 3,
   "metadata": {},
   "outputs": [
    {
     "output_type": "stream",
     "name": "stdout",
     "text": [
      "tensor(120611.1875, device='cuda:0', grad_fn=<AddBackward0>)\n",
      "tensor(7345.8540, device='cuda:0', grad_fn=<AddBackward0>)\n",
      "tensor(4328.6113, device='cuda:0', grad_fn=<AddBackward0>)\n",
      "tensor(3035.5415, device='cuda:0', grad_fn=<AddBackward0>)\n"
     ]
    }
   ],
   "source": [
    "import torch\n",
    "import torch.nn as nn\n",
    "import torch.optim as optim\n",
    "from PIL import Image\n",
    "import torchvision.transforms as transforms\n",
    "import torchvision.models as models\n",
    "from torchvision.utils import save_image\n",
    "\n",
    "\n",
    "class VGG(nn.Module):\n",
    "    def __init__(self):\n",
    "        super(VGG, self).__init__()\n",
    "        # The first number x in convx_y gets added by 1 after it has gone\n",
    "        # through a maxpool, and the second y if we have several conv layers\n",
    "        # in between a max pool. These strings (0, 5, 10, ..) then correspond\n",
    "        # to conv1_1, conv2_1, conv3_1, conv4_1, conv5_1 mentioned in NST paper\n",
    "        self.chosen_features = [\"0\", \"5\", \"10\", \"19\", \"28\"]\n",
    "\n",
    "        # We don't need to run anything further than conv5_1 (the 28th module in vgg)\n",
    "        # Since remember, we dont actually care about the output of VGG: the only thing\n",
    "        # that is modified is the generated image (i.e, the input).\n",
    "        self.model = models.vgg19(pretrained=True).features[:29]\n",
    "\n",
    "    def forward(self, x):\n",
    "        # Store relevant features\n",
    "        features = []\n",
    "\n",
    "        # Go through each layer in model, if the layer is in the chosen_features,\n",
    "        # store it in features. At the end we'll just return all the activations\n",
    "        # for the specific layers we have in chosen_features\n",
    "        for layer_num, layer in enumerate(self.model):\n",
    "            x = layer(x)\n",
    "\n",
    "            if str(layer_num) in self.chosen_features:\n",
    "                features.append(x)\n",
    "\n",
    "        return features\n",
    "\n",
    "\n",
    "def load_image(image_name):\n",
    "    image = Image.open(image_name)\n",
    "    image = loader(image).unsqueeze(0)\n",
    "    return image.to(device)\n",
    "\n",
    "\n",
    "device = torch.device(\"cuda\" if torch.cuda.is_available() else \"cpu\")\n",
    "imsize = 356\n",
    "\n",
    "# Here we may want to use the Normalization constants used in the original\n",
    "# VGG network (to get similar values net was originally trained on), but\n",
    "# I found it didn't matter too much so I didn't end of using it. If you\n",
    "# use it make sure to normalize back so the images don't look weird.\n",
    "loader = transforms.Compose(\n",
    "    [\n",
    "        transforms.Resize((imsize, imsize)),\n",
    "        transforms.ToTensor(),\n",
    "        # transforms.Normalize(mean=[0.485, 0.456, 0.406], std=[0.229, 0.224, 0.225]),\n",
    "    ]\n",
    ")\n",
    "\n",
    "original_img = load_image(\"content/abhinav.jpeg\")\n",
    "style_img = load_image(\"png/style2.png\")\n",
    "\n",
    "# initialized generated as white noise or clone of original image.\n",
    "# Clone seemed to work better for me.\n",
    "\n",
    "# generated = torch.randn(original_img.data.shape, device=device, requires_grad=True)\n",
    "generated = original_img.clone().requires_grad_(True)\n",
    "model = VGG().to(device).eval()\n",
    "\n",
    "# Hyperparameters\n",
    "total_steps = 2000\n",
    "learning_rate = 0.001\n",
    "alpha = 1\n",
    "beta = 0.01\n",
    "optimizer = optim.Adam([generated], lr=learning_rate)\n",
    "\n",
    "for step in range(total_steps):\n",
    "    # Obtain the convolution features in specifically chosen layers\n",
    "    generated_features = model(generated)\n",
    "    original_img_features = model(original_img)\n",
    "    style_features = model(style_img)\n",
    "\n",
    "    # Loss is 0 initially\n",
    "    style_loss = original_loss = 0\n",
    "\n",
    "    # iterate through all the features for the chosen layers\n",
    "    for gen_feature, orig_feature, style_feature in zip(\n",
    "        generated_features, original_img_features, style_features\n",
    "    ):\n",
    "\n",
    "        # batch_size will just be 1\n",
    "        batch_size, channel, height, width = gen_feature.shape\n",
    "        original_loss += torch.mean((gen_feature - orig_feature) ** 2)\n",
    "        # Compute Gram Matrix of generated\n",
    "        G = gen_feature.view(channel, height * width).mm(\n",
    "            gen_feature.view(channel, height * width).t()\n",
    "        )\n",
    "        # Compute Gram Matrix of Style\n",
    "        A = style_feature.view(channel, height * width).mm(\n",
    "            style_feature.view(channel, height * width).t()\n",
    "        )\n",
    "        style_loss += torch.mean((G - A) ** 2)\n",
    "\n",
    "    total_loss = alpha * original_loss + beta * style_loss\n",
    "    optimizer.zero_grad()\n",
    "    total_loss.backward()\n",
    "    optimizer.step()\n",
    "\n",
    "    if step % 500 == 0:\n",
    "        print(total_loss)\n",
    "        save_image(generated, f\"{step/200}generated.png\")\n",
    "\n"
   ]
  },
  {
   "cell_type": "code",
   "execution_count": 1,
   "metadata": {},
   "outputs": [
    {
     "output_type": "stream",
     "name": "stdout",
     "text": [
      "hello\n"
     ]
    }
   ],
   "source": [
    "print(\"hello\")"
   ]
  },
  {
   "cell_type": "code",
   "execution_count": null,
   "metadata": {},
   "outputs": [],
   "source": []
  }
 ]
}